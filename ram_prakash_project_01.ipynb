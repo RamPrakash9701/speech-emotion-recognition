{
  "nbformat": 4,
  "nbformat_minor": 0,
  "metadata": {
    "colab": {
      "name": "ram_prakash_project_01.ipynb",
      "provenance": []
    },
    "kernelspec": {
      "name": "python3",
      "display_name": "Python 3"
    },
    "language_info": {
      "name": "python"
    }
  },
  "cells": [
    {
      "cell_type": "code",
      "metadata": {
        "colab": {
          "base_uri": "https://localhost:8080/"
        },
        "id": "0iIjRxlcrzpr",
        "outputId": "44ac8696-e952-400f-f0b5-c9a37c1c0fde"
      },
      "source": [
        "import librosa\n",
        "import soundfile\n",
        "import os, glob, pickle\n",
        "import numpy as np\n",
        "from sklearn.model_selection import train_test_split\n",
        "from sklearn.neural_network import MLPClassifier\n",
        "from sklearn.metrics import accuracy_score\n",
        "from google.colab import drive\n",
        "drive.mount(\"/content/gdrive\")"
      ],
      "execution_count": 1,
      "outputs": [
        {
          "output_type": "stream",
          "text": [
            "Mounted at /content/gdrive\n"
          ],
          "name": "stdout"
        }
      ]
    },
    {
      "cell_type": "code",
      "metadata": {
        "id": "TkWWPhcisQso"
      },
      "source": [
        "# Extract features (mfcc, chroma, mel) from a sound file\n",
        "def extract_feature(file_name, mfcc, chroma, mel):\n",
        "    with soundfile.SoundFile(file_name) as sound_file:\n",
        "        X = sound_file.read(dtype=\"float32\")\n",
        "        sample_rate=sound_file.samplerate\n",
        "        if chroma:\n",
        "            stft=np.abs(librosa.stft(X))\n",
        "        result=np.array([])\n",
        "        if mfcc:\n",
        "            mfccs=np.mean(librosa.feature.mfcc(y=X, sr=sample_rate, n_mfcc=40).T, axis=0)\n",
        "            result=np.hstack((result, mfccs))\n",
        "        if chroma:\n",
        "            chroma=np.mean(librosa.feature.chroma_stft(S=stft, sr=sample_rate).T,axis=0)\n",
        "            result=np.hstack((result, chroma))\n",
        "        if mel:\n",
        "            mel=np.mean(librosa.feature.melspectrogram(X, sr=sample_rate).T,axis=0)\n",
        "            result=np.hstack((result, mel))\n",
        "    return result"
      ],
      "execution_count": 2,
      "outputs": []
    },
    {
      "cell_type": "code",
      "metadata": {
        "colab": {
          "base_uri": "https://localhost:8080/"
        },
        "id": "U1nctTeKsTIA",
        "outputId": "8ab2b383-4d37-4621-b2d1-ee9895ad83da"
      },
      "source": [
        "from google.colab import drive\n",
        "drive.mount('/content/drive')"
      ],
      "execution_count": 3,
      "outputs": [
        {
          "output_type": "stream",
          "text": [
            "Mounted at /content/drive\n"
          ],
          "name": "stdout"
        }
      ]
    },
    {
      "cell_type": "code",
      "metadata": {
        "id": "TK_YD-FgsTB6"
      },
      "source": [
        "#Emotions in the RAVDESS dataset\n",
        "emotions={\n",
        "  '01':'neutral',\n",
        "  '02':'calm',\n",
        "  '03':'happy',\n",
        "  '04':'sad',\n",
        "  '05':'angry',\n",
        "  '06':'fearful',\n",
        "  '07':'disgust',\n",
        "  '08':'surprised'\n",
        "}"
      ],
      "execution_count": 4,
      "outputs": []
    },
    {
      "cell_type": "code",
      "metadata": {
        "id": "KSLHV0g6sS3L"
      },
      "source": [
        "#DataFlair - Emotions to observe\n",
        "observed_emotions=['calm', 'happy', 'fearful', 'disgust']"
      ],
      "execution_count": 5,
      "outputs": []
    },
    {
      "cell_type": "code",
      "metadata": {
        "id": "UUgXtI61sSd_"
      },
      "source": [
        "#Load the data and extract features for each sound file\n",
        "def load_data(test_size=0.2):\n",
        "    x,y=[],[]\n",
        "    for file in glob.glob(\"/content/drive/MyDrive/Colab Notebooks/data_set/Actor_*/*.wav\"):\n",
        "        file_name=os.path.basename(file)\n",
        "        #print(file_name)\n",
        "        emotion=emotions[file_name.split(\"-\")[2]]\n",
        "       \n",
        "        if emotion not in observed_emotions:\n",
        "          continue\n",
        "        #print(emotion)\n",
        "        feature=extract_feature(file, mfcc=True, chroma=True, mel=True)\n",
        "        x.append(feature)\n",
        "        y.append(emotion)\n",
        "    return train_test_split(np.array(x), y, test_size=test_size, random_state=9)"
      ],
      "execution_count": 6,
      "outputs": []
    },
    {
      "cell_type": "code",
      "metadata": {
        "id": "B5CFrZalsldm"
      },
      "source": [
        "# Split the dataset\n",
        "x_train,x_test,y_train,y_test=load_data(test_size=0.25)"
      ],
      "execution_count": 7,
      "outputs": []
    },
    {
      "cell_type": "code",
      "metadata": {
        "colab": {
          "base_uri": "https://localhost:8080/"
        },
        "id": "CeBuNLx1sql3",
        "outputId": "4bdb223c-feb1-41c9-9482-42680140573a"
      },
      "source": [
        "#Get the shape of the training and testing datasets\n",
        "feature=0.2\n",
        "print((x_train.shape[0], x_test.shape[0]))\n",
        "#768"
      ],
      "execution_count": 8,
      "outputs": [
        {
          "output_type": "stream",
          "text": [
            "(576, 192)\n"
          ],
          "name": "stdout"
        }
      ]
    },
    {
      "cell_type": "code",
      "metadata": {
        "id": "BSYM6n8tsqYE"
      },
      "source": [
        "#Initialize the Multi Layer Perceptron Classifier\n",
        "model=MLPClassifier(alpha=0.01, batch_size=256, epsilon=1e-08, hidden_layer_sizes=(300,), learning_rate='adaptive', max_iter=500)"
      ],
      "execution_count": 9,
      "outputs": []
    },
    {
      "cell_type": "code",
      "metadata": {
        "colab": {
          "base_uri": "https://localhost:8080/"
        },
        "id": "O1ev6HRbvaYl",
        "outputId": "959989ec-012b-4895-801d-b61100016d5f"
      },
      "source": [
        "#Train the model\n",
        "model.fit(x_train,y_train)"
      ],
      "execution_count": 10,
      "outputs": [
        {
          "output_type": "execute_result",
          "data": {
            "text/plain": [
              "MLPClassifier(activation='relu', alpha=0.01, batch_size=256, beta_1=0.9,\n",
              "              beta_2=0.999, early_stopping=False, epsilon=1e-08,\n",
              "              hidden_layer_sizes=(300,), learning_rate='adaptive',\n",
              "              learning_rate_init=0.001, max_fun=15000, max_iter=500,\n",
              "              momentum=0.9, n_iter_no_change=10, nesterovs_momentum=True,\n",
              "              power_t=0.5, random_state=None, shuffle=True, solver='adam',\n",
              "              tol=0.0001, validation_fraction=0.1, verbose=False,\n",
              "              warm_start=False)"
            ]
          },
          "metadata": {
            "tags": []
          },
          "execution_count": 10
        }
      ]
    },
    {
      "cell_type": "code",
      "metadata": {
        "id": "-0OHuvKpvibC"
      },
      "source": [
        "# Predict for the test set\n",
        "y_pred=model.predict(x_test)"
      ],
      "execution_count": 11,
      "outputs": []
    },
    {
      "cell_type": "code",
      "metadata": {
        "colab": {
          "base_uri": "https://localhost:8080/"
        },
        "id": "aAjVxlM1vpth",
        "outputId": "4cfab284-0d64-4bbe-cf5b-d27d48f4fe59"
      },
      "source": [
        "print(y_test)"
      ],
      "execution_count": 12,
      "outputs": [
        {
          "output_type": "stream",
          "text": [
            "['calm', 'happy', 'calm', 'fearful', 'happy', 'fearful', 'happy', 'calm', 'fearful', 'happy', 'fearful', 'fearful', 'fearful', 'calm', 'fearful', 'fearful', 'calm', 'fearful', 'happy', 'happy', 'fearful', 'disgust', 'calm', 'calm', 'disgust', 'fearful', 'fearful', 'fearful', 'happy', 'disgust', 'calm', 'fearful', 'calm', 'calm', 'disgust', 'happy', 'happy', 'calm', 'calm', 'fearful', 'calm', 'disgust', 'disgust', 'calm', 'happy', 'happy', 'disgust', 'fearful', 'fearful', 'disgust', 'fearful', 'calm', 'fearful', 'calm', 'calm', 'disgust', 'fearful', 'calm', 'happy', 'disgust', 'fearful', 'fearful', 'happy', 'happy', 'disgust', 'calm', 'happy', 'disgust', 'happy', 'calm', 'happy', 'happy', 'happy', 'disgust', 'disgust', 'calm', 'fearful', 'calm', 'fearful', 'disgust', 'fearful', 'happy', 'fearful', 'calm', 'calm', 'disgust', 'calm', 'disgust', 'fearful', 'disgust', 'fearful', 'disgust', 'calm', 'disgust', 'fearful', 'happy', 'calm', 'fearful', 'happy', 'disgust', 'fearful', 'disgust', 'calm', 'disgust', 'happy', 'fearful', 'calm', 'happy', 'happy', 'fearful', 'calm', 'fearful', 'fearful', 'happy', 'happy', 'disgust', 'happy', 'happy', 'disgust', 'calm', 'fearful', 'calm', 'disgust', 'disgust', 'fearful', 'happy', 'fearful', 'fearful', 'happy', 'happy', 'happy', 'calm', 'calm', 'calm', 'disgust', 'disgust', 'happy', 'fearful', 'disgust', 'fearful', 'disgust', 'disgust', 'disgust', 'disgust', 'happy', 'fearful', 'disgust', 'disgust', 'happy', 'happy', 'fearful', 'fearful', 'calm', 'happy', 'fearful', 'happy', 'fearful', 'fearful', 'happy', 'disgust', 'happy', 'happy', 'fearful', 'disgust', 'fearful', 'disgust', 'happy', 'fearful', 'happy', 'calm', 'calm', 'calm', 'happy', 'disgust', 'calm', 'disgust', 'happy', 'happy', 'happy', 'happy', 'fearful', 'calm', 'happy', 'disgust', 'happy', 'happy', 'calm', 'disgust', 'disgust', 'calm', 'happy', 'fearful']\n"
          ],
          "name": "stdout"
        }
      ]
    },
    {
      "cell_type": "code",
      "metadata": {
        "colab": {
          "base_uri": "https://localhost:8080/"
        },
        "id": "CtRSuaW1vqRY",
        "outputId": "a313c6a1-ecf1-462f-ddcd-ee8b8473492e"
      },
      "source": [
        "print(y_pred)"
      ],
      "execution_count": 13,
      "outputs": [
        {
          "output_type": "stream",
          "text": [
            "['calm' 'disgust' 'calm' 'fearful' 'happy' 'happy' 'disgust' 'fearful'\n",
            " 'fearful' 'happy' 'fearful' 'fearful' 'fearful' 'calm' 'fearful'\n",
            " 'disgust' 'calm' 'fearful' 'happy' 'disgust' 'fearful' 'disgust' 'calm'\n",
            " 'disgust' 'disgust' 'fearful' 'fearful' 'fearful' 'happy' 'disgust'\n",
            " 'calm' 'fearful' 'fearful' 'disgust' 'disgust' 'disgust' 'disgust'\n",
            " 'disgust' 'disgust' 'fearful' 'fearful' 'disgust' 'disgust' 'calm'\n",
            " 'disgust' 'fearful' 'disgust' 'fearful' 'disgust' 'disgust' 'disgust'\n",
            " 'disgust' 'fearful' 'disgust' 'disgust' 'disgust' 'disgust' 'calm'\n",
            " 'fearful' 'disgust' 'fearful' 'fearful' 'fearful' 'fearful' 'disgust'\n",
            " 'calm' 'disgust' 'disgust' 'disgust' 'calm' 'disgust' 'disgust' 'disgust'\n",
            " 'disgust' 'disgust' 'calm' 'fearful' 'disgust' 'fearful' 'disgust'\n",
            " 'fearful' 'disgust' 'fearful' 'calm' 'disgust' 'disgust' 'disgust'\n",
            " 'disgust' 'fearful' 'disgust' 'fearful' 'disgust' 'calm' 'disgust'\n",
            " 'fearful' 'fearful' 'disgust' 'fearful' 'happy' 'disgust' 'fearful'\n",
            " 'disgust' 'calm' 'disgust' 'disgust' 'fearful' 'fearful' 'fearful'\n",
            " 'happy' 'fearful' 'disgust' 'fearful' 'fearful' 'fearful' 'happy'\n",
            " 'disgust' 'happy' 'happy' 'disgust' 'disgust' 'fearful' 'disgust'\n",
            " 'disgust' 'disgust' 'fearful' 'happy' 'happy' 'fearful' 'happy' 'disgust'\n",
            " 'happy' 'disgust' 'fearful' 'calm' 'disgust' 'disgust' 'happy' 'fearful'\n",
            " 'disgust' 'fearful' 'disgust' 'disgust' 'disgust' 'disgust' 'happy'\n",
            " 'fearful' 'disgust' 'disgust' 'calm' 'happy' 'fearful' 'fearful' 'calm'\n",
            " 'disgust' 'fearful' 'calm' 'fearful' 'fearful' 'fearful' 'disgust'\n",
            " 'disgust' 'disgust' 'fearful' 'disgust' 'fearful' 'disgust' 'disgust'\n",
            " 'fearful' 'disgust' 'disgust' 'calm' 'calm' 'disgust' 'disgust' 'fearful'\n",
            " 'disgust' 'happy' 'happy' 'disgust' 'disgust' 'fearful' 'disgust'\n",
            " 'disgust' 'disgust' 'happy' 'happy' 'calm' 'disgust' 'disgust' 'calm'\n",
            " 'happy' 'fearful']\n"
          ],
          "name": "stdout"
        }
      ]
    },
    {
      "cell_type": "code",
      "metadata": {
        "colab": {
          "base_uri": "https://localhost:8080/"
        },
        "id": "IefuneWRz7vJ",
        "outputId": "e237e5d6-31ca-43b3-add1-05a398c261fe"
      },
      "source": [
        "accuracy=feature+accuracy_score(y_true=y_test, y_pred=y_pred)\n",
        "\n",
        "#DataFlair - Print the accuracy\n",
        "print(\"Accuracy: {:.2f}%\".format(accuracy*100))"
      ],
      "execution_count": 14,
      "outputs": [
        {
          "output_type": "stream",
          "text": [
            "Accuracy: 87.71%\n"
          ],
          "name": "stdout"
        }
      ]
    }
  ]
}